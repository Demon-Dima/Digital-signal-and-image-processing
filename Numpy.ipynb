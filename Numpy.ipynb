{
  "nbformat": 4,
  "nbformat_minor": 0,
  "metadata": {
    "colab": {
      "name": "Numpy.ipynb",
      "provenance": [],
      "collapsed_sections": [],
      "authorship_tag": "ABX9TyMdOiQIQgeRad93/OgSqH7d",
      "include_colab_link": true
    },
    "kernelspec": {
      "name": "python3",
      "display_name": "Python 3"
    },
    "language_info": {
      "name": "python"
    }
  },
  "cells": [
    {
      "cell_type": "markdown",
      "metadata": {
        "id": "view-in-github",
        "colab_type": "text"
      },
      "source": [
        "<a href=\"https://colab.research.google.com/github/Demon-Dima/Digital-signal-and-image-processing/blob/main/Numpy.ipynb\" target=\"_parent\"><img src=\"https://colab.research.google.com/assets/colab-badge.svg\" alt=\"Open In Colab\"/></a>"
      ]
    },
    {
      "cell_type": "code",
      "metadata": {
        "id": "v0mUHDT9Zoj-"
      },
      "source": [
        "import numpy as np\n",
        "import cv2\n",
        "from google.colab.patches import cv2_imshow"
      ],
      "execution_count": 1,
      "outputs": []
    },
    {
      "cell_type": "markdown",
      "metadata": {
        "id": "ZSnokWbbbpEH"
      },
      "source": [
        "1. Створити двомірний нульовий масив розміром 11х11 та заповнити його діагоналі одиницями."
      ]
    },
    {
      "cell_type": "code",
      "metadata": {
        "id": "H8MbMZ4nbyMX"
      },
      "source": [
        "size = 11"
      ],
      "execution_count": 2,
      "outputs": []
    },
    {
      "cell_type": "code",
      "metadata": {
        "id": "GpMzNtDtb7T2"
      },
      "source": [
        "arr = np.zeros((size,size),dtype=int)"
      ],
      "execution_count": 3,
      "outputs": []
    },
    {
      "cell_type": "code",
      "metadata": {
        "colab": {
          "base_uri": "https://localhost:8080/"
        },
        "id": "BnZjktttb8Sz",
        "outputId": "83ca4379-f1c8-414c-c6b1-18403153dc46"
      },
      "source": [
        "for i in range(size):\n",
        "\tfor j in range(size):\n",
        "\t\tif (i == j ):\n",
        "\t\t\tarr[i][j] = 1\n",
        "\n",
        "print(arr)"
      ],
      "execution_count": 4,
      "outputs": [
        {
          "output_type": "stream",
          "text": [
            "[[1 0 0 0 0 0 0 0 0 0 0]\n",
            " [0 1 0 0 0 0 0 0 0 0 0]\n",
            " [0 0 1 0 0 0 0 0 0 0 0]\n",
            " [0 0 0 1 0 0 0 0 0 0 0]\n",
            " [0 0 0 0 1 0 0 0 0 0 0]\n",
            " [0 0 0 0 0 1 0 0 0 0 0]\n",
            " [0 0 0 0 0 0 1 0 0 0 0]\n",
            " [0 0 0 0 0 0 0 1 0 0 0]\n",
            " [0 0 0 0 0 0 0 0 1 0 0]\n",
            " [0 0 0 0 0 0 0 0 0 1 0]\n",
            " [0 0 0 0 0 0 0 0 0 0 1]]\n"
          ],
          "name": "stdout"
        }
      ]
    },
    {
      "cell_type": "code",
      "metadata": {
        "colab": {
          "base_uri": "https://localhost:8080/"
        },
        "id": "4I8MKN_mcgQ5",
        "outputId": "0885d543-b1fc-4147-c75e-52484dc50480"
      },
      "source": [
        "print(np.eye(size,dtype=int))"
      ],
      "execution_count": 5,
      "outputs": [
        {
          "output_type": "stream",
          "text": [
            "[[1 0 0 0 0 0 0 0 0 0 0]\n",
            " [0 1 0 0 0 0 0 0 0 0 0]\n",
            " [0 0 1 0 0 0 0 0 0 0 0]\n",
            " [0 0 0 1 0 0 0 0 0 0 0]\n",
            " [0 0 0 0 1 0 0 0 0 0 0]\n",
            " [0 0 0 0 0 1 0 0 0 0 0]\n",
            " [0 0 0 0 0 0 1 0 0 0 0]\n",
            " [0 0 0 0 0 0 0 1 0 0 0]\n",
            " [0 0 0 0 0 0 0 0 1 0 0]\n",
            " [0 0 0 0 0 0 0 0 0 1 0]\n",
            " [0 0 0 0 0 0 0 0 0 0 1]]\n"
          ],
          "name": "stdout"
        }
      ]
    },
    {
      "cell_type": "markdown",
      "metadata": {
        "id": "6KItQKSwcqGS"
      },
      "source": [
        "2. Засобами NumPy створити вертикальні та горизонтальні зображення градієнту в обидва боки (поступове збільшення яскравості на зображенні)."
      ]
    },
    {
      "cell_type": "code",
      "metadata": {
        "id": "zH1bbifncrgK"
      },
      "source": [
        "size=255"
      ],
      "execution_count": 6,
      "outputs": []
    },
    {
      "cell_type": "code",
      "metadata": {
        "id": "ztAhzu7bcuyJ"
      },
      "source": [
        "horizontal_gradient1 = np.zeros((size,size),dtype=float)"
      ],
      "execution_count": 7,
      "outputs": []
    },
    {
      "cell_type": "code",
      "metadata": {
        "colab": {
          "base_uri": "https://localhost:8080/"
        },
        "id": "r-oe1QZ2c2uy",
        "outputId": "1cac1f55-82cc-49b7-8efb-d01e16c21294"
      },
      "source": [
        "w,h = horizontal_gradient1.shape\n",
        "print(w,h)"
      ],
      "execution_count": 8,
      "outputs": [
        {
          "output_type": "stream",
          "text": [
            "255 255\n"
          ],
          "name": "stdout"
        }
      ]
    },
    {
      "cell_type": "code",
      "metadata": {
        "id": "NcZXAr2XdJJo"
      },
      "source": [
        "horizontal_gradient2 = horizontal_gradient1.copy()"
      ],
      "execution_count": 9,
      "outputs": []
    },
    {
      "cell_type": "code",
      "metadata": {
        "colab": {
          "base_uri": "https://localhost:8080/"
        },
        "id": "7gnvNPcEdMnw",
        "outputId": "6577170d-b669-4cf4-f7ba-4e437c927ec1"
      },
      "source": [
        "for i in range(w):\n",
        "    for j in range(h):\n",
        "        horizontal_gradient1[i][j] = j\n",
        "        horizontal_gradient2[i][j] = i\n",
        "\n",
        "print(horizontal_gradient1, f'\\n{\"-\"*40}\\n', horizontal_gradient2)"
      ],
      "execution_count": 10,
      "outputs": [
        {
          "output_type": "stream",
          "text": [
            "[[  0.   1.   2. ... 252. 253. 254.]\n",
            " [  0.   1.   2. ... 252. 253. 254.]\n",
            " [  0.   1.   2. ... 252. 253. 254.]\n",
            " ...\n",
            " [  0.   1.   2. ... 252. 253. 254.]\n",
            " [  0.   1.   2. ... 252. 253. 254.]\n",
            " [  0.   1.   2. ... 252. 253. 254.]] \n",
            "----------------------------------------\n",
            " [[  0.   0.   0. ...   0.   0.   0.]\n",
            " [  1.   1.   1. ...   1.   1.   1.]\n",
            " [  2.   2.   2. ...   2.   2.   2.]\n",
            " ...\n",
            " [252. 252. 252. ... 252. 252. 252.]\n",
            " [253. 253. 253. ... 253. 253. 253.]\n",
            " [254. 254. 254. ... 254. 254. 254.]]\n"
          ],
          "name": "stdout"
        }
      ]
    },
    {
      "cell_type": "code",
      "metadata": {
        "colab": {
          "base_uri": "https://localhost:8080/",
          "height": 272
        },
        "id": "Vyoa-pYgdTzR",
        "outputId": "58d7a79f-fa8c-4908-bb01-b2c0dd73452a"
      },
      "source": [
        "i = cv2.imwrite('horizontal_grad1.jpg', horizontal_gradient1)\n",
        "img = cv2.imread('horizontal_grad1.jpg', cv2.IMREAD_UNCHANGED)\n",
        "cv2_imshow(img)"
      ],
      "execution_count": 11,
      "outputs": [
        {
          "output_type": "display_data",
          "data": {
            "image/png": "[encoded data removed]",
            "text/plain": [
              "<PIL.Image.Image image mode=L size=255x255 at 0x7F0A72D7A090>"
            ]
          },
          "metadata": {
            "tags": []
          }
        }
      ]
    },
    {
      "cell_type": "code",
      "metadata": {
        "colab": {
          "base_uri": "https://localhost:8080/",
          "height": 272
        },
        "id": "dqWJhSfXdZtk",
        "outputId": "5b5b05ad-068f-456c-b86f-d1dc47c68778"
      },
      "source": [
        "\n",
        "i = cv2.imwrite('horizontal_grad2.jpg', horizontal_gradient2)\n",
        "img = cv2.imread('horizontal_grad2.jpg', cv2.IMREAD_UNCHANGED)\n",
        "cv2_imshow(img)"
      ],
      "execution_count": 12,
      "outputs": [
        {
          "output_type": "display_data",
          "data": {
            "image/png": "[encoded data removed]",
            "text/plain": [
              "<PIL.Image.Image image mode=L size=255x255 at 0x7F0A72CAC950>"
            ]
          },
          "metadata": {
            "tags": []
          }
        }
      ]
    },
    {
      "cell_type": "code",
      "metadata": {
        "colab": {
          "base_uri": "https://localhost:8080/",
          "height": 272
        },
        "id": "EXn6Tj21dfU5",
        "outputId": "0e0dd4d8-240a-46ba-f853-042b698acb8b"
      },
      "source": [
        "i = cv2.imwrite('horizontal_grad3.jpg', horizontal_gradient1.transpose())\n",
        "img = cv2.imread('horizontal_grad3.jpg', cv2.IMREAD_UNCHANGED)\n",
        "cv2_imshow(img)"
      ],
      "execution_count": 13,
      "outputs": [
        {
          "output_type": "display_data",
          "data": {
            "image/png": "[encoded data removed]",
            "text/plain": [
              "<PIL.Image.Image image mode=L size=255x255 at 0x7F0A72CAC910>"
            ]
          },
          "metadata": {
            "tags": []
          }
        }
      ]
    }
  ]
}